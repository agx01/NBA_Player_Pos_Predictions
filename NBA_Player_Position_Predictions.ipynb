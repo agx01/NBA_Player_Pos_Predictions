{
 "cells": [
  {
   "cell_type": "code",
   "execution_count": 1,
   "id": "e87f8e8a-fe38-484b-867e-518ef1c3111b",
   "metadata": {},
   "outputs": [
    {
     "name": "stderr",
     "output_type": "stream",
     "text": [
      "C:\\Anaconda3\\lib\\site-packages\\xgboost\\compat.py:36: FutureWarning: pandas.Int64Index is deprecated and will be removed from pandas in a future version. Use pandas.Index with the appropriate dtype instead.\n",
      "  from pandas import MultiIndex, Int64Index\n"
     ]
    }
   ],
   "source": [
    "import numpy as np\n",
    "import pandas as pd\n",
    "import matplotlib.pyplot as plt\n",
    "import graphviz\n",
    "import eli5\n",
    "from eli5.sklearn import PermutationImportance\n",
    "\n",
    "from IPython.display import display\n",
    "from sklearn.model_selection import GridSearchCV, train_test_split\n",
    "from sklearn.model_selection import cross_val_score\n",
    "from sklearn.neighbors import KNeighborsClassifier\n",
    "from sklearn.svm import LinearSVC\n",
    "from sklearn.naive_bayes import GaussianNB\n",
    "from sklearn.tree import export_graphviz\n",
    "\n",
    "from sklearn.preprocessing import LabelEncoder\n",
    "from sklearn.tree import DecisionTreeClassifier\n",
    "from sklearn.model_selection import StratifiedKFold\n",
    "from sklearn.ensemble import RandomForestClassifier\n",
    "from sklearn.preprocessing import MinMaxScaler"
   ]
  },
  {
   "cell_type": "code",
   "execution_count": 2,
   "id": "1db50206-e833-4402-b1bf-c0878130a243",
   "metadata": {},
   "outputs": [],
   "source": [
    "#Parameters to start the ML model\n",
    "filename = 'nba2021.csv'\n",
    "drop_columns = ['Player', 'Tm', 'Age', '3PA']\n",
    "test_size = 0.25\n",
    "traintestsplit_random_state = 42\n",
    "k=71"
   ]
  },
  {
   "cell_type": "code",
   "execution_count": 3,
   "id": "043a2be3-09de-45cb-a924-9dbaac6b9ac2",
   "metadata": {},
   "outputs": [],
   "source": [
    "#Extract data and preprocess\n",
    "data = pd.read_csv(filename)"
   ]
  },
  {
   "cell_type": "code",
   "execution_count": 4,
   "id": "ddc89802-2ffc-40e9-a756-4eec65ac041e",
   "metadata": {},
   "outputs": [
    {
     "name": "stdout",
     "output_type": "stream",
     "text": [
      "Data description:\n",
      "              Age           G          GS          MP          FG         FGA  \\\n",
      "count  497.000000  497.000000  497.000000  497.000000  497.000000  497.000000   \n",
      "mean    25.623742   18.456740    8.631791   19.724547    3.274447    7.157948   \n",
      "std      4.054229    8.311394   10.318088    9.892146    2.478254    5.068286   \n",
      "min     19.000000    1.000000    0.000000    1.300000    0.000000    0.000000   \n",
      "25%     22.000000   12.000000    0.000000   11.200000    1.400000    3.200000   \n",
      "50%     25.000000   20.000000    3.000000   19.800000    2.700000    6.000000   \n",
      "75%     28.000000   26.000000   18.000000   28.100000    4.700000   10.300000   \n",
      "max     37.000000   30.000000   30.000000   38.300000   11.400000   24.000000   \n",
      "\n",
      "              FG%          3P         3PA         3P%  ...         FT%  \\\n",
      "count  497.000000  497.000000  497.000000  497.000000  ...  497.000000   \n",
      "mean     0.437322    1.018712    2.816097    0.300738  ...    0.692213   \n",
      "std      0.128347    0.942945    2.332628    0.163417  ...    0.251333   \n",
      "min      0.000000    0.000000    0.000000    0.000000  ...    0.000000   \n",
      "25%      0.389000    0.200000    0.800000    0.250000  ...    0.619000   \n",
      "50%      0.443000    0.800000    2.300000    0.337000  ...    0.759000   \n",
      "75%      0.500000    1.600000    4.300000    0.396000  ...    0.848000   \n",
      "max      1.000000    5.000000   11.800000    1.000000  ...    1.000000   \n",
      "\n",
      "              ORB         DRB         TRB         AST         STL         BLK  \\\n",
      "count  497.000000  497.000000  497.000000  497.000000  497.000000  497.000000   \n",
      "mean     0.808451    2.826559    3.632797    2.035010    0.609658    0.421932   \n",
      "std      0.769720    1.940002    2.519695    1.986807    0.427091    0.439783   \n",
      "min      0.000000    0.000000    0.000000    0.000000    0.000000    0.000000   \n",
      "25%      0.300000    1.300000    1.800000    0.700000    0.300000    0.100000   \n",
      "50%      0.600000    2.600000    3.200000    1.400000    0.600000    0.300000   \n",
      "75%      1.100000    3.800000    5.000000    2.700000    0.900000    0.600000   \n",
      "max      4.600000    9.900000   14.000000   11.800000    2.000000    3.500000   \n",
      "\n",
      "              TOV          PF         PTS  \n",
      "count  497.000000  497.000000  497.000000  \n",
      "mean     1.139437    1.654728    8.962777  \n",
      "std      0.887715    0.844111    6.885621  \n",
      "min      0.000000    0.000000    0.000000  \n",
      "25%      0.500000    1.000000    3.700000  \n",
      "50%      0.900000    1.700000    7.300000  \n",
      "75%      1.500000    2.200000   12.800000  \n",
      "max      5.000000    4.100000   32.800000  \n",
      "\n",
      "[8 rows x 26 columns]\n"
     ]
    }
   ],
   "source": [
    "print(\"Data description:\")\n",
    "print(data.describe())"
   ]
  },
  {
   "cell_type": "code",
   "execution_count": 5,
   "id": "e8e0fd48-42cc-4a6c-9d2d-6596924ff229",
   "metadata": {},
   "outputs": [
    {
     "name": "stdout",
     "output_type": "stream",
     "text": [
      "Data Information:\n",
      "<class 'pandas.core.frame.DataFrame'>\n",
      "RangeIndex: 497 entries, 0 to 496\n",
      "Data columns (total 29 columns):\n",
      " #   Column  Non-Null Count  Dtype  \n",
      "---  ------  --------------  -----  \n",
      " 0   Player  497 non-null    object \n",
      " 1   Pos     497 non-null    object \n",
      " 2   Age     497 non-null    int64  \n",
      " 3   Tm      497 non-null    object \n",
      " 4   G       497 non-null    int64  \n",
      " 5   GS      497 non-null    int64  \n",
      " 6   MP      497 non-null    float64\n",
      " 7   FG      497 non-null    float64\n",
      " 8   FGA     497 non-null    float64\n",
      " 9   FG%     497 non-null    float64\n",
      " 10  3P      497 non-null    float64\n",
      " 11  3PA     497 non-null    float64\n",
      " 12  3P%     497 non-null    float64\n",
      " 13  2P      497 non-null    float64\n",
      " 14  2PA     497 non-null    float64\n",
      " 15  2P%     497 non-null    float64\n",
      " 16  eFG%    497 non-null    float64\n",
      " 17  FT      497 non-null    float64\n",
      " 18  FTA     497 non-null    float64\n",
      " 19  FT%     497 non-null    float64\n",
      " 20  ORB     497 non-null    float64\n",
      " 21  DRB     497 non-null    float64\n",
      " 22  TRB     497 non-null    float64\n",
      " 23  AST     497 non-null    float64\n",
      " 24  STL     497 non-null    float64\n",
      " 25  BLK     497 non-null    float64\n",
      " 26  TOV     497 non-null    float64\n",
      " 27  PF      497 non-null    float64\n",
      " 28  PTS     497 non-null    float64\n",
      "dtypes: float64(23), int64(3), object(3)\n",
      "memory usage: 112.7+ KB\n",
      "None\n"
     ]
    }
   ],
   "source": [
    "print(\"Data Information:\")\n",
    "print(data.info())"
   ]
  },
  {
   "cell_type": "code",
   "execution_count": 6,
   "id": "51cca76c-17ee-437e-874a-0b9ec20e54b3",
   "metadata": {},
   "outputs": [
    {
     "name": "stdout",
     "output_type": "stream",
     "text": [
      "Sample Data:\n",
      "              Player Pos  Age   Tm   G  GS    MP   FG   FGA    FG%  ...  \\\n",
      "0   Precious Achiuwa  PF   21  MIA  28   2  14.6  2.6   4.4  0.590  ...   \n",
      "1       Jaylen Adams  PG   24  MIL   6   0   2.8  0.2   1.3  0.125  ...   \n",
      "2       Steven Adams   C   27  NOP  27  27  28.1  3.5   5.8  0.603  ...   \n",
      "3        Bam Adebayo   C   23  MIA  26  26  33.6  7.4  12.9  0.573  ...   \n",
      "4  LaMarcus Aldridge   C   35  SAS  18  18  26.7  5.9  12.5  0.476  ...   \n",
      "\n",
      "     FT%  ORB  DRB  TRB  AST  STL  BLK  TOV   PF   PTS  \n",
      "0  0.561  1.3  2.7  4.0  0.6  0.4  0.5  1.0  1.9   6.5  \n",
      "1  0.000  0.0  0.5  0.5  0.3  0.0  0.0  0.0  0.2   0.3  \n",
      "2  0.468  4.3  4.6  8.9  2.1  1.0  0.6  1.7  1.9   8.0  \n",
      "3  0.841  1.9  7.3  9.2  5.3  1.0  1.0  3.0  2.6  19.9  \n",
      "4  0.762  0.8  3.5  4.3  1.9  0.4  0.9  0.9  1.5  14.1  \n",
      "\n",
      "[5 rows x 29 columns]\n"
     ]
    }
   ],
   "source": [
    "print(\"Sample Data:\")\n",
    "print(data.head())"
   ]
  },
  {
   "cell_type": "code",
   "execution_count": 7,
   "id": "a455a384-ef9b-4e21-be4c-5bba06f595c2",
   "metadata": {},
   "outputs": [],
   "source": [
    "#Drop unwanted or redundant columns\n",
    "data.drop(columns=drop_columns, inplace=True)"
   ]
  },
  {
   "cell_type": "code",
   "execution_count": 8,
   "id": "b54ac128-25c6-45a0-87cf-2b2d05a20540",
   "metadata": {
    "tags": []
   },
   "outputs": [
    {
     "data": {
      "text/plain": [
       "Index(['Pos', 'G', 'GS', 'MP', 'FG', 'FGA', 'FG%', '3P', '3P%', '2P', '2PA',\n",
       "       '2P%', 'eFG%', 'FT', 'FTA', 'FT%', 'ORB', 'DRB', 'TRB', 'AST', 'STL',\n",
       "       'BLK', 'TOV', 'PF', 'PTS'],\n",
       "      dtype='object')"
      ]
     },
     "execution_count": 8,
     "metadata": {},
     "output_type": "execute_result"
    }
   ],
   "source": [
    "data.columns"
   ]
  },
  {
   "cell_type": "code",
   "execution_count": 9,
   "id": "68bf056e-8604-4e95-bf15-7a34f0c3caf1",
   "metadata": {},
   "outputs": [],
   "source": [
    "#Label encoding the required columns\n",
    "label_encoder = LabelEncoder()\n",
    "label_encoder.fit(data['Pos'])\n",
    "data['Pos'] = label_encoder.transform(data['Pos'])"
   ]
  },
  {
   "cell_type": "code",
   "execution_count": 10,
   "id": "8cf9bb72-bef7-42f3-aea2-f11bcf71ccf8",
   "metadata": {
    "tags": []
   },
   "outputs": [
    {
     "data": {
      "text/plain": [
       "Index(['Pos', 'G', 'GS', 'MP', 'FG', 'FGA', 'FG%', '3P', '3P%', '2P', '2PA',\n",
       "       '2P%', 'eFG%', 'FT', 'FTA', 'FT%', 'ORB', 'DRB', 'TRB', 'AST', 'STL',\n",
       "       'BLK', 'TOV', 'PF', 'PTS'],\n",
       "      dtype='object')"
      ]
     },
     "execution_count": 10,
     "metadata": {},
     "output_type": "execute_result"
    }
   ],
   "source": [
    "data.columns"
   ]
  },
  {
   "cell_type": "code",
   "execution_count": 11,
   "id": "371d3d88-76de-4de7-bb13-a9c96c1abe14",
   "metadata": {},
   "outputs": [],
   "source": [
    "#Train test split into 75/25\n",
    "target = data[\"Pos\"]\n",
    "data = data.drop(columns=[\"Pos\"])"
   ]
  },
  {
   "cell_type": "code",
   "execution_count": 12,
   "id": "98d6c3f3-bccd-4848-864f-53f35e553993",
   "metadata": {},
   "outputs": [],
   "source": [
    "#Use Scaler to scale the data\n",
    "\n",
    "# Create a MinMaxScaler object\n",
    "scaler = MinMaxScaler()\n",
    "\n",
    "# Fit and transform the features (X) using the scaler\n",
    "X_scaled = scaler.fit_transform(data)\n",
    "\n",
    "# If you want to create a new DataFrame with scaled features:\n",
    "data = pd.DataFrame(X_scaled, columns=data.columns)"
   ]
  },
  {
   "cell_type": "code",
   "execution_count": 13,
   "id": "540d1a1a-ff3e-4d65-b195-cf8a31040489",
   "metadata": {},
   "outputs": [
    {
     "name": "stdout",
     "output_type": "stream",
     "text": [
      "Data description:\n",
      "                G          GS          MP          FG         FGA         FG%  \\\n",
      "count  497.000000  497.000000  497.000000  497.000000  497.000000  497.000000   \n",
      "mean     0.601957    0.287726    0.497961    0.287232    0.298248    0.437322   \n",
      "std      0.286600    0.343936    0.267355    0.217391    0.211179    0.128347   \n",
      "min      0.000000    0.000000    0.000000    0.000000    0.000000    0.000000   \n",
      "25%      0.379310    0.000000    0.267568    0.122807    0.133333    0.389000   \n",
      "50%      0.655172    0.100000    0.500000    0.236842    0.250000    0.443000   \n",
      "75%      0.862069    0.600000    0.724324    0.412281    0.429167    0.500000   \n",
      "max      1.000000    1.000000    1.000000    1.000000    1.000000    1.000000   \n",
      "\n",
      "               3P         3P%          2P         2PA  ...         FT%  \\\n",
      "count  497.000000  497.000000  497.000000  497.000000  ...  497.000000   \n",
      "mean     0.203742    0.300738    0.240250    0.261800  ...    0.692213   \n",
      "std      0.188589    0.163417    0.208715    0.215539  ...    0.251333   \n",
      "min      0.000000    0.000000    0.000000    0.000000  ...    0.000000   \n",
      "25%      0.040000    0.250000    0.085106    0.090361  ...    0.619000   \n",
      "50%      0.160000    0.337000    0.180851    0.198795  ...    0.759000   \n",
      "75%      0.320000    0.396000    0.340426    0.367470  ...    0.848000   \n",
      "max      1.000000    1.000000    1.000000    1.000000  ...    1.000000   \n",
      "\n",
      "              ORB         DRB         TRB         AST         STL         BLK  \\\n",
      "count  497.000000  497.000000  497.000000  497.000000  497.000000  497.000000   \n",
      "mean     0.175750    0.285511    0.259485    0.172458    0.304829    0.120552   \n",
      "std      0.167330    0.195960    0.179978    0.168373    0.213545    0.125652   \n",
      "min      0.000000    0.000000    0.000000    0.000000    0.000000    0.000000   \n",
      "25%      0.065217    0.131313    0.128571    0.059322    0.150000    0.028571   \n",
      "50%      0.130435    0.262626    0.228571    0.118644    0.300000    0.085714   \n",
      "75%      0.239130    0.383838    0.357143    0.228814    0.450000    0.171429   \n",
      "max      1.000000    1.000000    1.000000    1.000000    1.000000    1.000000   \n",
      "\n",
      "              TOV          PF         PTS  \n",
      "count  497.000000  497.000000  497.000000  \n",
      "mean     0.227887    0.403592    0.273255  \n",
      "std      0.177543    0.205881    0.209927  \n",
      "min      0.000000    0.000000    0.000000  \n",
      "25%      0.100000    0.243902    0.112805  \n",
      "50%      0.180000    0.414634    0.222561  \n",
      "75%      0.300000    0.536585    0.390244  \n",
      "max      1.000000    1.000000    1.000000  \n",
      "\n",
      "[8 rows x 24 columns]\n"
     ]
    }
   ],
   "source": [
    "print(\"Data description:\")\n",
    "print(data.describe())"
   ]
  },
  {
   "cell_type": "code",
   "execution_count": 14,
   "id": "26a1f541-65c6-468f-a4af-80f3f16b19af",
   "metadata": {
    "tags": []
   },
   "outputs": [
    {
     "name": "stdout",
     "output_type": "stream",
     "text": [
      "Target description:\n",
      "count    497.000000\n",
      "mean       2.090543\n",
      "std        1.443091\n",
      "min        0.000000\n",
      "25%        1.000000\n",
      "50%        2.000000\n",
      "75%        3.000000\n",
      "max        4.000000\n",
      "Name: Pos, dtype: float64\n"
     ]
    }
   ],
   "source": [
    "print(\"Target description:\")\n",
    "print(target.describe())"
   ]
  },
  {
   "cell_type": "code",
   "execution_count": 15,
   "id": "3202579b-19c4-42a1-b0d3-051463ff7400",
   "metadata": {},
   "outputs": [],
   "source": [
    "train_feature, test_feature, train_class, test_class = train_test_split(data, target, test_size=test_size, random_state=traintestsplit_random_state)"
   ]
  },
  {
   "cell_type": "code",
   "execution_count": 16,
   "id": "06711923-2c65-4698-a433-b155cc1fd577",
   "metadata": {},
   "outputs": [
    {
     "name": "stdout",
     "output_type": "stream",
     "text": [
      "Training set score: 0.457\n",
      "Test set score: 0.384\n"
     ]
    }
   ],
   "source": [
    "#Build the random Forest Classifier\n",
    "clf = RandomForestClassifier(max_depth=2, random_state=0)\n",
    "\n",
    "clf.fit(train_feature, train_class)\n",
    "print(\"Training set score: {:.3f}\".format(clf.score(train_feature, train_class)))\n",
    "print(\"Test set score: {:.3f}\".format(clf.score(test_feature, test_class)))"
   ]
  },
  {
   "cell_type": "code",
   "execution_count": 17,
   "id": "3f379588-f7ec-43cb-b483-2499a8604278",
   "metadata": {
    "tags": []
   },
   "outputs": [
    {
     "name": "stdout",
     "output_type": "stream",
     "text": [
      "Training set score: 0.621\n",
      "Test set score: 0.392\n"
     ]
    }
   ],
   "source": [
    "#Build the Decision Tree\n",
    "tree = DecisionTreeClassifier(max_depth=5, random_state=42)\n",
    "tree.fit(train_feature, train_class)\n",
    "print(\"Training set score: {:.3f}\".format(tree.score(train_feature, train_class)))\n",
    "print(\"Test set score: {:.3f}\".format(tree.score(test_feature, test_class)))"
   ]
  },
  {
   "cell_type": "code",
   "execution_count": 18,
   "id": "b0d06b5d-32e2-4845-ae2f-bf6ba5c74314",
   "metadata": {},
   "outputs": [
    {
     "name": "stdout",
     "output_type": "stream",
     "text": [
      "Training set score: 0.556\n",
      "Test set score: 0.488\n"
     ]
    }
   ],
   "source": [
    "linearsvm = LinearSVC().fit(train_feature, train_class)\n",
    "print(\"Training set score: {:.3f}\".format(linearsvm.score(train_feature, train_class)))\n",
    "print(\"Test set score: {:.3f}\".format(linearsvm.score(test_feature, test_class)))"
   ]
  },
  {
   "cell_type": "code",
   "execution_count": 19,
   "id": "4643114d-2151-4031-b5f1-11a7827a2cf6",
   "metadata": {
    "tags": []
   },
   "outputs": [
    {
     "name": "stdout",
     "output_type": "stream",
     "text": [
      "Best Model: RandomForestClassifier(max_depth=10, min_samples_split=5, n_estimators=50,\n",
      "                       random_state=42)\n",
      "Best Parameters: {'max_depth': 10, 'min_samples_split': 5, 'n_estimators': 50}\n",
      "Best Model Accuracy: 0.448\n"
     ]
    }
   ],
   "source": [
    "#Random Forest Hyperparameter tuning\n",
    "param_grid = {\n",
    "    'n_estimators': [50, 100, 150, 200],\n",
    "    'max_depth': [None, 10, 11, 15, 20],\n",
    "    'min_samples_split': [2, 5, 10, 15, 20]\n",
    "}\n",
    "\n",
    "clf = RandomForestClassifier(random_state=42)\n",
    "\n",
    "grid_search = GridSearchCV(estimator=clf, param_grid=param_grid, cv=5, n_jobs=-1)\n",
    "grid_search.fit(train_feature, train_class)\n",
    "\n",
    "best_model = grid_search.best_estimator_\n",
    "best_params = grid_search.best_params_\n",
    "accuracy = best_model.score(test_feature, test_class)\n",
    "\n",
    "print(\"Best Model:\", best_model)\n",
    "print(\"Best Parameters:\", best_params)\n",
    "print(\"Best Model Accuracy:\", accuracy)"
   ]
  },
  {
   "cell_type": "code",
   "execution_count": 20,
   "id": "e5716cc2-1e6a-4c74-a4ec-2d9ba7e7fddb",
   "metadata": {
    "tags": []
   },
   "outputs": [
    {
     "name": "stdout",
     "output_type": "stream",
     "text": [
      "Best Model: DecisionTreeClassifier(max_depth=10, min_samples_split=5, random_state=42)\n",
      "Best Parameters: {'max_depth': 10, 'min_samples_leaf': 1, 'min_samples_split': 5}\n",
      "Best Model Accuracy: 0.416\n"
     ]
    }
   ],
   "source": [
    "#Decision Tree Hyperparameter tuning\n",
    "param_grid = {\n",
    "    'max_depth': [None, 5, 10, 20],\n",
    "    'min_samples_split': [2, 5, 10],\n",
    "    'min_samples_leaf': [1, 2, 4]\n",
    "}\n",
    "\n",
    "tree = DecisionTreeClassifier(random_state=42)\n",
    "\n",
    "grid_search = GridSearchCV(estimator=tree, param_grid=param_grid, cv=5, n_jobs=-1)\n",
    "grid_search.fit(train_feature, train_class)\n",
    "\n",
    "best_model = grid_search.best_estimator_\n",
    "best_params = grid_search.best_params_\n",
    "accuracy = best_model.score(test_feature, test_class)\n",
    "\n",
    "print(\"Best Model:\", best_model)\n",
    "print(\"Best Parameters:\", best_params)\n",
    "print(\"Best Model Accuracy:\", accuracy)"
   ]
  },
  {
   "cell_type": "code",
   "execution_count": 21,
   "id": "0e623ebd-e419-47fd-870a-fae003bf268f",
   "metadata": {},
   "outputs": [
    {
     "name": "stdout",
     "output_type": "stream",
     "text": [
      "Best Model: LinearSVC(C=1)\n",
      "Best Parameters: {'C': 1, 'max_iter': 1000}\n",
      "Best Model Accuracy: 0.488\n"
     ]
    }
   ],
   "source": [
    "param_grid = {\n",
    "    'C': [0.1, 1, 10],\n",
    "    'max_iter': [1000, 2000]\n",
    "}\n",
    "\n",
    "linear_svc = LinearSVC()\n",
    "\n",
    "grid_search = GridSearchCV(estimator=linear_svc, param_grid=param_grid, cv=5, n_jobs=-1)\n",
    "grid_search.fit(train_feature, train_class)\n",
    "\n",
    "best_params = grid_search.best_params_\n",
    "best_model = grid_search.best_estimator_\n",
    "accuracy = best_model.score(test_feature, test_class)\n",
    "\n",
    "print(\"Best Model:\", best_model)\n",
    "print(\"Best Parameters:\", best_params)\n",
    "print(\"Best Model Accuracy:\", accuracy)"
   ]
  },
  {
   "cell_type": "code",
   "execution_count": 22,
   "id": "6ac8385a-e321-4697-aefe-410b8495784e",
   "metadata": {},
   "outputs": [
    {
     "name": "stdout",
     "output_type": "stream",
     "text": [
      "   Feature  Importance\n",
      "5      FG%    0.084210\n",
      "15     ORB    0.080065\n",
      "18     AST    0.079185\n",
      "17     TRB    0.069883\n",
      "20     BLK    0.063962\n",
      "11    eFG%    0.056295\n",
      "6       3P    0.052441\n",
      "16     DRB    0.051480\n",
      "10     2P%    0.047368\n",
      "7      3P%    0.039070\n",
      "19     STL    0.036240\n",
      "23     PTS    0.034165\n",
      "4      FGA    0.030795\n",
      "2       MP    0.029910\n",
      "9      2PA    0.029020\n",
      "12      FT    0.028150\n",
      "8       2P    0.026660\n",
      "0        G    0.025094\n",
      "22      PF    0.025075\n",
      "14     FT%    0.025038\n",
      "21     TOV    0.023975\n",
      "13     FTA    0.023882\n",
      "1       GS    0.019501\n",
      "3       FG    0.018536\n"
     ]
    }
   ],
   "source": [
    "#Check the feature importance for Random Forest Classifier\n",
    "clf = RandomForestClassifier(max_depth=10, min_samples_split=15, n_estimators=150, random_state=42)\n",
    "\n",
    "clf.fit(train_feature, train_class)\n",
    "\n",
    "# Assuming you have trained your Random Forest model 'rf' on X_train and y_train\n",
    "importances_clf = clf.feature_importances_\n",
    "\n",
    "# Create a DataFrame to display the feature importances along with their corresponding feature names\n",
    "importance_df_clf = pd.DataFrame({'Feature': train_feature.columns, 'Importance': importances_clf})\n",
    "importance_df_clf = importance_df_clf.sort_values(by='Importance', ascending=False)\n",
    "\n",
    "print(importance_df_clf)"
   ]
  },
  {
   "cell_type": "code",
   "execution_count": 23,
   "id": "46b6b4e4-f7ae-4a1b-b926-78141ef2c98c",
   "metadata": {
    "tags": []
   },
   "outputs": [
    {
     "name": "stdout",
     "output_type": "stream",
     "text": [
      "   Feature  Importance\n",
      "15     ORB    0.143431\n",
      "18     AST    0.117219\n",
      "17     TRB    0.093521\n",
      "6       3P    0.084860\n",
      "20     BLK    0.054653\n",
      "7      3P%    0.053705\n",
      "11    eFG%    0.049741\n",
      "12      FT    0.044312\n",
      "1       GS    0.041711\n",
      "2       MP    0.041209\n",
      "5      FG%    0.040711\n",
      "16     DRB    0.034171\n",
      "23     PTS    0.033804\n",
      "19     STL    0.031885\n",
      "22      PF    0.030609\n",
      "3       FG    0.024669\n",
      "21     TOV    0.020110\n",
      "4      FGA    0.012810\n",
      "14     FT%    0.012531\n",
      "13     FTA    0.010952\n",
      "9      2PA    0.008585\n",
      "0        G    0.007890\n",
      "10     2P%    0.003779\n",
      "8       2P    0.003133\n"
     ]
    }
   ],
   "source": [
    "#Check the feature importance for Decision Tree Classifier\n",
    "tree = DecisionTreeClassifier(max_depth=10, min_samples_leaf=2, random_state=42)\n",
    "\n",
    "tree.fit(train_feature, train_class)\n",
    "\n",
    "# Assuming you have trained your Random Forest model 'rf' on X_train and y_train\n",
    "importances_tree = tree.feature_importances_\n",
    "\n",
    "# Create a DataFrame to display the feature importances along with their corresponding feature names\n",
    "importance_df_tree = pd.DataFrame({'Feature': train_feature.columns, 'Importance': importances_tree})\n",
    "importance_df_tree = importance_df_tree.sort_values(by='Importance', ascending=False)\n",
    "\n",
    "print(importance_df_tree)"
   ]
  },
  {
   "cell_type": "code",
   "execution_count": 24,
   "id": "38604643-7f8c-4a1c-97c4-ce78aac2174a",
   "metadata": {
    "tags": []
   },
   "outputs": [
    {
     "name": "stdout",
     "output_type": "stream",
     "text": [
      "   Feature  Importance\n",
      "2       MP    3.694315\n",
      "5      FG%    2.772113\n",
      "13     FTA    2.212097\n",
      "20     BLK    1.902708\n",
      "15     ORB    1.895372\n",
      "8       2P    1.688553\n",
      "22      PF    1.676686\n",
      "17     TRB    1.642649\n",
      "16     DRB    1.382495\n",
      "4      FGA    1.328805\n",
      "7      3P%    1.215017\n",
      "3       FG    1.062118\n",
      "19     STL    1.051350\n",
      "11    eFG%    0.968099\n",
      "10     2P%    0.942003\n",
      "9      2PA    0.901079\n",
      "6       3P    0.803376\n",
      "14     FT%    0.566588\n",
      "18     AST    0.177011\n",
      "0        G    0.106925\n",
      "1       GS    0.099116\n",
      "21     TOV    0.057656\n",
      "23     PTS    0.029059\n",
      "12      FT    0.013662\n"
     ]
    },
    {
     "name": "stderr",
     "output_type": "stream",
     "text": [
      "C:\\Anaconda3\\lib\\site-packages\\sklearn\\svm\\_base.py:1244: ConvergenceWarning: Liblinear failed to converge, increase the number of iterations.\n",
      "  warnings.warn(\n"
     ]
    }
   ],
   "source": [
    "#Check the feature importance for Random Forest Classifier\n",
    "linear_svc = LinearSVC(C=10, max_iter=1000)\n",
    "\n",
    "linear_svc.fit(train_feature, train_class)\n",
    "\n",
    "# Assuming you have trained your Random Forest model 'rf' on X_train and y_train\n",
    "# Get the learned coefficients (feature importances) of the LinearSVC model\n",
    "coefficients = linear_svc.coef_[0]\n",
    "\n",
    "# Create a DataFrame to display the feature importances along with their corresponding feature names\n",
    "importance_df_svc = pd.DataFrame({'Feature': train_feature.columns, 'Importance': np.abs(coefficients)})\n",
    "importance_df_svc = importance_df_svc.sort_values(by='Importance', ascending=False)\n",
    "\n",
    "print(importance_df_svc)"
   ]
  },
  {
   "cell_type": "code",
   "execution_count": 25,
   "id": "1dbeeac1-2eef-46d4-ab21-b0abeee5cc7e",
   "metadata": {
    "tags": []
   },
   "outputs": [
    {
     "data": {
      "text/plain": [
       "Index(['G', 'GS', 'MP', 'FG', 'FGA', 'FG%', '3P', '3P%', '2P', '2PA', '2P%',\n",
       "       'eFG%', 'FT', 'FTA', 'FT%', 'ORB', 'DRB', 'TRB', 'AST', 'STL', 'BLK',\n",
       "       'TOV', 'PF', 'PTS'],\n",
       "      dtype='object')"
      ]
     },
     "execution_count": 25,
     "metadata": {},
     "output_type": "execute_result"
    }
   ],
   "source": [
    "data.columns"
   ]
  },
  {
   "cell_type": "code",
   "execution_count": 26,
   "id": "2454f25c-9246-4888-a10f-836dae0c6042",
   "metadata": {
    "tags": []
   },
   "outputs": [
    {
     "data": {
      "text/plain": [
       "24"
      ]
     },
     "execution_count": 26,
     "metadata": {},
     "output_type": "execute_result"
    }
   ],
   "source": [
    "len(data.columns)"
   ]
  },
  {
   "cell_type": "code",
   "execution_count": 27,
   "id": "a8143e73-4f26-4911-a974-ea31f09f3d94",
   "metadata": {
    "tags": []
   },
   "outputs": [
    {
     "name": "stdout",
     "output_type": "stream",
     "text": [
      "Training set score: 0.855\n",
      "Test set score: 0.496\n"
     ]
    }
   ],
   "source": [
    "# Take the top 10 features and test if model accuracy increases or not\n",
    "top_10_features = importance_df_clf.head(12)\n",
    "selected_columns = top_10_features.Feature.tolist()\n",
    "data_filtered = data[selected_columns]\n",
    "\n",
    "train_feature, test_feature, train_class, test_class = train_test_split(data_filtered, target, test_size=test_size, random_state=traintestsplit_random_state)\n",
    "\n",
    "clf = RandomForestClassifier(max_depth=10, min_samples_split=15, n_estimators=150, random_state=42)\n",
    "\n",
    "clf.fit(train_feature, train_class)\n",
    "\n",
    "print(\"Training set score: {:.3f}\".format(clf.score(train_feature, train_class)))\n",
    "print(\"Test set score: {:.3f}\".format(clf.score(test_feature, test_class)))"
   ]
  },
  {
   "cell_type": "code",
   "execution_count": 28,
   "id": "96b9ba60-c71c-46d2-a859-12fd43cad589",
   "metadata": {
    "tags": []
   },
   "outputs": [
    {
     "name": "stdout",
     "output_type": "stream",
     "text": [
      "Training set score: 0.858\n",
      "Test set score: 0.456\n"
     ]
    }
   ],
   "source": [
    "# Take the top 10 features and test if model accuracy increases or not\n",
    "top_10_features = importance_df_tree.head(12)\n",
    "selected_columns = top_10_features.Feature.tolist()\n",
    "data_filtered = data[selected_columns]\n",
    "\n",
    "train_feature, test_feature, train_class, test_class = train_test_split(data_filtered, target, test_size=test_size, random_state=traintestsplit_random_state)\n",
    "\n",
    "tree = DecisionTreeClassifier(max_depth=10, min_samples_leaf=2, random_state=42)\n",
    "\n",
    "tree.fit(train_feature, train_class)\n",
    "\n",
    "print(\"Training set score: {:.3f}\".format(tree.score(train_feature, train_class)))\n",
    "print(\"Test set score: {:.3f}\".format(tree.score(test_feature, test_class)))"
   ]
  },
  {
   "cell_type": "code",
   "execution_count": 29,
   "id": "93cdb324-9535-435b-b63b-fec986b3c7a3",
   "metadata": {
    "tags": []
   },
   "outputs": [
    {
     "data": {
      "image/png": "[encoded data removed]",
      "text/plain": [
       "<Figure size 1000x600 with 1 Axes>"
      ]
     },
     "metadata": {},
     "output_type": "display_data"
    }
   ],
   "source": [
    "num_features = list(range(1, 26))\n",
    "        \n",
    "train_scores = []\n",
    "test_scores = []\n",
    "\n",
    "for num_feature in num_features:\n",
    "    # Take the top 10 features and test if model accuracy increases or not\n",
    "    top_10_features = importance_df_clf.head(num_feature)\n",
    "    selected_columns = top_10_features.Feature.tolist()\n",
    "    data_filtered = data[selected_columns]\n",
    "\n",
    "    train_feature, test_feature, train_class, test_class = train_test_split(data_filtered, target, test_size=test_size, random_state=traintestsplit_random_state)\n",
    "\n",
    "    clf = RandomForestClassifier(max_depth=10, min_samples_split=15, n_estimators=150, random_state=42)\n",
    "\n",
    "    clf.fit(train_feature, train_class)\n",
    "    \n",
    "    train_scores.append(clf.score(train_feature, train_class))\n",
    "    test_scores.append(clf.score(test_feature, test_class))\n",
    "\n",
    "# Plot the accuracy scores against the maximum depth\n",
    "plt.figure(figsize=(10, 6))\n",
    "plt.plot(num_features, train_scores, label='Training Accuracy', marker='o')\n",
    "plt.plot(num_features, test_scores, label='Testing Accuracy', marker='o')\n",
    "plt.xlabel('Top n features')\n",
    "plt.ylabel('Accuracy')\n",
    "plt.title('Random Forest Accuracy vs. Top n Features')\n",
    "plt.legend()\n",
    "plt.xticks(num_features)\n",
    "plt.grid(True)\n",
    "plt.savefig('RandomForestAccuracyVmaxDepth.png')\n",
    "plt.show()\n"
   ]
  },
  {
   "cell_type": "code",
   "execution_count": 30,
   "id": "5702d62a-3081-401d-aabc-acef2e23e114",
   "metadata": {
    "tags": []
   },
   "outputs": [
    {
     "data": {
      "image/png": "[encoded data removed]",
      "text/plain": [
       "<Figure size 1000x600 with 1 Axes>"
      ]
     },
     "metadata": {},
     "output_type": "display_data"
    }
   ],
   "source": [
    "num_features = list(range(1, 26))\n",
    "        \n",
    "train_scores = []\n",
    "test_scores = []\n",
    "\n",
    "for num_feature in num_features:\n",
    "    # Take the top 10 features and test if model accuracy increases or not\n",
    "    top_10_features = importance_df_tree.head(num_feature)\n",
    "    selected_columns = top_10_features.Feature.tolist()\n",
    "    data_filtered = data[selected_columns]\n",
    "\n",
    "    train_feature, test_feature, train_class, test_class = train_test_split(data_filtered, target, test_size=test_size, random_state=traintestsplit_random_state)\n",
    "\n",
    "    tree = DecisionTreeClassifier(max_depth=10, min_samples_leaf=2, random_state=42)\n",
    "\n",
    "    tree.fit(train_feature, train_class)\n",
    "    \n",
    "    train_scores.append(tree.score(train_feature, train_class))\n",
    "    test_scores.append(tree.score(test_feature, test_class))\n",
    "\n",
    "# Plot the accuracy scores against the maximum depth\n",
    "plt.figure(figsize=(10, 6))\n",
    "plt.plot(num_features, train_scores, label='Training Accuracy', marker='o')\n",
    "plt.plot(num_features, test_scores, label='Testing Accuracy', marker='o')\n",
    "plt.xlabel('Top n features')\n",
    "plt.ylabel('Accuracy')\n",
    "plt.title('Decision Tree Accuracy vs. Top n Features')\n",
    "plt.legend()\n",
    "plt.xticks(num_features)\n",
    "plt.grid(True)\n",
    "plt.savefig('DecisionTreeAccuracyVmaxDepth.png')\n",
    "plt.show()\n",
    "\n"
   ]
  },
  {
   "cell_type": "markdown",
   "id": "8ad403f9-1794-42bd-ab56-57aa8b5d5283",
   "metadata": {},
   "source": [
    "# Random Forest Best Hyperparamter and Best Features confusion matrix"
   ]
  },
  {
   "cell_type": "code",
   "execution_count": 31,
   "id": "c1fa2ae6-9cad-4378-ac39-ecd6de91f1d9",
   "metadata": {
    "tags": []
   },
   "outputs": [
    {
     "name": "stdout",
     "output_type": "stream",
     "text": [
      "Training set score: 0.866\n",
      "Test set score: 0.480\n",
      "Confusion matrix:\n",
      "Predicted   0   1   2   3   4  All\n",
      "True                              \n",
      "0          16   5   0   3   0   24\n",
      "1           4   9   0   5   6   24\n",
      "2           2   3  11   0  12   28\n",
      "3           1   5   0   5   9   20\n",
      "4           0   3   4   3  19   29\n",
      "All        23  25  15  16  46  125\n"
     ]
    }
   ],
   "source": [
    "top_10_features = importance_df_clf.head(12)\n",
    "selected_columns = top_10_features.Feature.tolist()\n",
    "data_filtered = data[selected_columns]\n",
    "\n",
    "train_feature, test_feature, train_class, test_class = train_test_split(data_filtered, target, test_size=test_size, random_state=traintestsplit_random_state)\n",
    "\n",
    "clf = RandomForestClassifier(max_depth=11, min_samples_split=15, n_estimators=150, random_state=42)\n",
    "\n",
    "clf.fit(train_feature, train_class)\n",
    "\n",
    "print(\"Training set score: {:.3f}\".format(clf.score(train_feature, train_class)))\n",
    "print(\"Test set score: {:.3f}\".format(clf.score(test_feature, test_class)))\n",
    "\n",
    "prediction = clf.predict(test_feature)\n",
    "print(\"Confusion matrix:\")\n",
    "print(pd.crosstab(test_class, prediction, rownames=['True'], colnames=['Predicted'], margins=True))"
   ]
  },
  {
   "cell_type": "code",
   "execution_count": 32,
   "id": "0947ad8d-35fa-4e4f-aff3-7eb247bd669e",
   "metadata": {
    "tags": []
   },
   "outputs": [
    {
     "name": "stdout",
     "output_type": "stream",
     "text": [
      "Cross-validation scores: [0.57142857 0.42857143 0.57142857 0.57142857 0.28571429 0.42857143\n",
      " 0.14285714 0.28571429 0.57142857 0.14285714 0.28571429 0.14285714\n",
      " 0.71428571 0.28571429 0.57142857 0.28571429 0.28571429 0.14285714\n",
      " 0.28571429 0.28571429 0.71428571 0.57142857 0.71428571 0.42857143\n",
      " 0.42857143 0.42857143 0.14285714 0.57142857 0.42857143 0.14285714\n",
      " 0.57142857 0.42857143 0.57142857 0.71428571 0.57142857 0.42857143\n",
      " 0.71428571 0.28571429 0.57142857 0.42857143 0.42857143 0.57142857\n",
      " 0.28571429 0.42857143 0.14285714 0.28571429 0.57142857 0.28571429\n",
      " 0.57142857 0.28571429 0.42857143 0.28571429 0.42857143 0.42857143\n",
      " 0.85714286 0.57142857 0.42857143 0.42857143 0.28571429 0.57142857\n",
      " 0.42857143 0.28571429 0.28571429 0.57142857 0.28571429 0.42857143\n",
      " 0.57142857 0.57142857 0.42857143 0.14285714 0.42857143]\n",
      "Average cross-validation score: 0.42\n"
     ]
    }
   ],
   "source": [
    "stratified_kfold = StratifiedKFold(n_splits=k, shuffle=True, random_state=42)\n",
    "scores = cross_val_score(clf, data, target, cv=5)\n",
    "cv_scores = cross_val_score(clf, data, target, cv=stratified_kfold)\n",
    "print(\"Cross-validation scores: {}\".format(cv_scores))\n",
    "print(\"Average cross-validation score: {:.2f}\".format(cv_scores.mean()))"
   ]
  },
  {
   "cell_type": "markdown",
   "id": "8084fb91-95f5-4a85-999a-c0fec804fae2",
   "metadata": {},
   "source": [
    "# Linear SVC Best Hyperparamter and Best Features confusion matrix"
   ]
  },
  {
   "cell_type": "code",
   "execution_count": 33,
   "id": "c7ec3df9-091f-4330-ac9b-1b267b119d65",
   "metadata": {
    "tags": []
   },
   "outputs": [
    {
     "name": "stdout",
     "output_type": "stream",
     "text": [
      "Training set score: 0.551\n",
      "Test set score: 0.512\n",
      "Confusion matrix:\n",
      "Predicted   0   1   2  3   4  All\n",
      "True                             \n",
      "0          19   4   0  0   1   24\n",
      "1           4  11   1  2   6   24\n",
      "2           1   3  16  0   8   28\n",
      "3           2   8   2  0   8   20\n",
      "4           0   0  11  0  18   29\n",
      "All        26  26  30  2  41  125\n"
     ]
    },
    {
     "name": "stderr",
     "output_type": "stream",
     "text": [
      "C:\\Anaconda3\\lib\\site-packages\\sklearn\\svm\\_base.py:1244: ConvergenceWarning: Liblinear failed to converge, increase the number of iterations.\n",
      "  warnings.warn(\n"
     ]
    }
   ],
   "source": [
    "#Check the feature importance for Random Forest Classifier\n",
    "linear_svc = LinearSVC(C=10, max_iter=1000)\n",
    "\n",
    "linear_svc.fit(train_feature, train_class)\n",
    "\n",
    "\n",
    "print(\"Training set score: {:.3f}\".format(linear_svc.score(train_feature, train_class)))\n",
    "print(\"Test set score: {:.3f}\".format(linear_svc.score(test_feature, test_class)))\n",
    "\n",
    "prediction = linear_svc.predict(test_feature)\n",
    "print(\"Confusion matrix:\")\n",
    "print(pd.crosstab(test_class, prediction, rownames=['True'], colnames=['Predicted'], margins=True))"
   ]
  },
  {
   "cell_type": "code",
   "execution_count": 34,
   "id": "dc36a2fb-863a-4714-b418-4d7e38a4d110",
   "metadata": {
    "tags": []
   },
   "outputs": [
    {
     "name": "stderr",
     "output_type": "stream",
     "text": [
      "C:\\Anaconda3\\lib\\site-packages\\sklearn\\svm\\_base.py:1244: ConvergenceWarning: Liblinear failed to converge, increase the number of iterations.\n",
      "  warnings.warn(\n",
      "C:\\Anaconda3\\lib\\site-packages\\sklearn\\svm\\_base.py:1244: ConvergenceWarning: Liblinear failed to converge, increase the number of iterations.\n",
      "  warnings.warn(\n",
      "C:\\Anaconda3\\lib\\site-packages\\sklearn\\svm\\_base.py:1244: ConvergenceWarning: Liblinear failed to converge, increase the number of iterations.\n",
      "  warnings.warn(\n",
      "C:\\Anaconda3\\lib\\site-packages\\sklearn\\svm\\_base.py:1244: ConvergenceWarning: Liblinear failed to converge, increase the number of iterations.\n",
      "  warnings.warn(\n",
      "C:\\Anaconda3\\lib\\site-packages\\sklearn\\svm\\_base.py:1244: ConvergenceWarning: Liblinear failed to converge, increase the number of iterations.\n",
      "  warnings.warn(\n",
      "C:\\Anaconda3\\lib\\site-packages\\sklearn\\svm\\_base.py:1244: ConvergenceWarning: Liblinear failed to converge, increase the number of iterations.\n",
      "  warnings.warn(\n",
      "C:\\Anaconda3\\lib\\site-packages\\sklearn\\svm\\_base.py:1244: ConvergenceWarning: Liblinear failed to converge, increase the number of iterations.\n",
      "  warnings.warn(\n",
      "C:\\Anaconda3\\lib\\site-packages\\sklearn\\svm\\_base.py:1244: ConvergenceWarning: Liblinear failed to converge, increase the number of iterations.\n",
      "  warnings.warn(\n",
      "C:\\Anaconda3\\lib\\site-packages\\sklearn\\svm\\_base.py:1244: ConvergenceWarning: Liblinear failed to converge, increase the number of iterations.\n",
      "  warnings.warn(\n",
      "C:\\Anaconda3\\lib\\site-packages\\sklearn\\svm\\_base.py:1244: ConvergenceWarning: Liblinear failed to converge, increase the number of iterations.\n",
      "  warnings.warn(\n",
      "C:\\Anaconda3\\lib\\site-packages\\sklearn\\svm\\_base.py:1244: ConvergenceWarning: Liblinear failed to converge, increase the number of iterations.\n",
      "  warnings.warn(\n",
      "C:\\Anaconda3\\lib\\site-packages\\sklearn\\svm\\_base.py:1244: ConvergenceWarning: Liblinear failed to converge, increase the number of iterations.\n",
      "  warnings.warn(\n",
      "C:\\Anaconda3\\lib\\site-packages\\sklearn\\svm\\_base.py:1244: ConvergenceWarning: Liblinear failed to converge, increase the number of iterations.\n",
      "  warnings.warn(\n",
      "C:\\Anaconda3\\lib\\site-packages\\sklearn\\svm\\_base.py:1244: ConvergenceWarning: Liblinear failed to converge, increase the number of iterations.\n",
      "  warnings.warn(\n",
      "C:\\Anaconda3\\lib\\site-packages\\sklearn\\svm\\_base.py:1244: ConvergenceWarning: Liblinear failed to converge, increase the number of iterations.\n",
      "  warnings.warn(\n",
      "C:\\Anaconda3\\lib\\site-packages\\sklearn\\svm\\_base.py:1244: ConvergenceWarning: Liblinear failed to converge, increase the number of iterations.\n",
      "  warnings.warn(\n",
      "C:\\Anaconda3\\lib\\site-packages\\sklearn\\svm\\_base.py:1244: ConvergenceWarning: Liblinear failed to converge, increase the number of iterations.\n",
      "  warnings.warn(\n",
      "C:\\Anaconda3\\lib\\site-packages\\sklearn\\svm\\_base.py:1244: ConvergenceWarning: Liblinear failed to converge, increase the number of iterations.\n",
      "  warnings.warn(\n",
      "C:\\Anaconda3\\lib\\site-packages\\sklearn\\svm\\_base.py:1244: ConvergenceWarning: Liblinear failed to converge, increase the number of iterations.\n",
      "  warnings.warn(\n",
      "C:\\Anaconda3\\lib\\site-packages\\sklearn\\svm\\_base.py:1244: ConvergenceWarning: Liblinear failed to converge, increase the number of iterations.\n",
      "  warnings.warn(\n",
      "C:\\Anaconda3\\lib\\site-packages\\sklearn\\svm\\_base.py:1244: ConvergenceWarning: Liblinear failed to converge, increase the number of iterations.\n",
      "  warnings.warn(\n",
      "C:\\Anaconda3\\lib\\site-packages\\sklearn\\svm\\_base.py:1244: ConvergenceWarning: Liblinear failed to converge, increase the number of iterations.\n",
      "  warnings.warn(\n",
      "C:\\Anaconda3\\lib\\site-packages\\sklearn\\svm\\_base.py:1244: ConvergenceWarning: Liblinear failed to converge, increase the number of iterations.\n",
      "  warnings.warn(\n",
      "C:\\Anaconda3\\lib\\site-packages\\sklearn\\svm\\_base.py:1244: ConvergenceWarning: Liblinear failed to converge, increase the number of iterations.\n",
      "  warnings.warn(\n",
      "C:\\Anaconda3\\lib\\site-packages\\sklearn\\svm\\_base.py:1244: ConvergenceWarning: Liblinear failed to converge, increase the number of iterations.\n",
      "  warnings.warn(\n",
      "C:\\Anaconda3\\lib\\site-packages\\sklearn\\svm\\_base.py:1244: ConvergenceWarning: Liblinear failed to converge, increase the number of iterations.\n",
      "  warnings.warn(\n",
      "C:\\Anaconda3\\lib\\site-packages\\sklearn\\svm\\_base.py:1244: ConvergenceWarning: Liblinear failed to converge, increase the number of iterations.\n",
      "  warnings.warn(\n",
      "C:\\Anaconda3\\lib\\site-packages\\sklearn\\svm\\_base.py:1244: ConvergenceWarning: Liblinear failed to converge, increase the number of iterations.\n",
      "  warnings.warn(\n",
      "C:\\Anaconda3\\lib\\site-packages\\sklearn\\svm\\_base.py:1244: ConvergenceWarning: Liblinear failed to converge, increase the number of iterations.\n",
      "  warnings.warn(\n",
      "C:\\Anaconda3\\lib\\site-packages\\sklearn\\svm\\_base.py:1244: ConvergenceWarning: Liblinear failed to converge, increase the number of iterations.\n",
      "  warnings.warn(\n",
      "C:\\Anaconda3\\lib\\site-packages\\sklearn\\svm\\_base.py:1244: ConvergenceWarning: Liblinear failed to converge, increase the number of iterations.\n",
      "  warnings.warn(\n",
      "C:\\Anaconda3\\lib\\site-packages\\sklearn\\svm\\_base.py:1244: ConvergenceWarning: Liblinear failed to converge, increase the number of iterations.\n",
      "  warnings.warn(\n",
      "C:\\Anaconda3\\lib\\site-packages\\sklearn\\svm\\_base.py:1244: ConvergenceWarning: Liblinear failed to converge, increase the number of iterations.\n",
      "  warnings.warn(\n",
      "C:\\Anaconda3\\lib\\site-packages\\sklearn\\svm\\_base.py:1244: ConvergenceWarning: Liblinear failed to converge, increase the number of iterations.\n",
      "  warnings.warn(\n",
      "C:\\Anaconda3\\lib\\site-packages\\sklearn\\svm\\_base.py:1244: ConvergenceWarning: Liblinear failed to converge, increase the number of iterations.\n",
      "  warnings.warn(\n",
      "C:\\Anaconda3\\lib\\site-packages\\sklearn\\svm\\_base.py:1244: ConvergenceWarning: Liblinear failed to converge, increase the number of iterations.\n",
      "  warnings.warn(\n",
      "C:\\Anaconda3\\lib\\site-packages\\sklearn\\svm\\_base.py:1244: ConvergenceWarning: Liblinear failed to converge, increase the number of iterations.\n",
      "  warnings.warn(\n",
      "C:\\Anaconda3\\lib\\site-packages\\sklearn\\svm\\_base.py:1244: ConvergenceWarning: Liblinear failed to converge, increase the number of iterations.\n",
      "  warnings.warn(\n",
      "C:\\Anaconda3\\lib\\site-packages\\sklearn\\svm\\_base.py:1244: ConvergenceWarning: Liblinear failed to converge, increase the number of iterations.\n",
      "  warnings.warn(\n",
      "C:\\Anaconda3\\lib\\site-packages\\sklearn\\svm\\_base.py:1244: ConvergenceWarning: Liblinear failed to converge, increase the number of iterations.\n",
      "  warnings.warn(\n",
      "C:\\Anaconda3\\lib\\site-packages\\sklearn\\svm\\_base.py:1244: ConvergenceWarning: Liblinear failed to converge, increase the number of iterations.\n",
      "  warnings.warn(\n",
      "C:\\Anaconda3\\lib\\site-packages\\sklearn\\svm\\_base.py:1244: ConvergenceWarning: Liblinear failed to converge, increase the number of iterations.\n",
      "  warnings.warn(\n",
      "C:\\Anaconda3\\lib\\site-packages\\sklearn\\svm\\_base.py:1244: ConvergenceWarning: Liblinear failed to converge, increase the number of iterations.\n",
      "  warnings.warn(\n",
      "C:\\Anaconda3\\lib\\site-packages\\sklearn\\svm\\_base.py:1244: ConvergenceWarning: Liblinear failed to converge, increase the number of iterations.\n",
      "  warnings.warn(\n",
      "C:\\Anaconda3\\lib\\site-packages\\sklearn\\svm\\_base.py:1244: ConvergenceWarning: Liblinear failed to converge, increase the number of iterations.\n",
      "  warnings.warn(\n",
      "C:\\Anaconda3\\lib\\site-packages\\sklearn\\svm\\_base.py:1244: ConvergenceWarning: Liblinear failed to converge, increase the number of iterations.\n",
      "  warnings.warn(\n",
      "C:\\Anaconda3\\lib\\site-packages\\sklearn\\svm\\_base.py:1244: ConvergenceWarning: Liblinear failed to converge, increase the number of iterations.\n",
      "  warnings.warn(\n",
      "C:\\Anaconda3\\lib\\site-packages\\sklearn\\svm\\_base.py:1244: ConvergenceWarning: Liblinear failed to converge, increase the number of iterations.\n",
      "  warnings.warn(\n",
      "C:\\Anaconda3\\lib\\site-packages\\sklearn\\svm\\_base.py:1244: ConvergenceWarning: Liblinear failed to converge, increase the number of iterations.\n",
      "  warnings.warn(\n",
      "C:\\Anaconda3\\lib\\site-packages\\sklearn\\svm\\_base.py:1244: ConvergenceWarning: Liblinear failed to converge, increase the number of iterations.\n",
      "  warnings.warn(\n",
      "C:\\Anaconda3\\lib\\site-packages\\sklearn\\svm\\_base.py:1244: ConvergenceWarning: Liblinear failed to converge, increase the number of iterations.\n",
      "  warnings.warn(\n",
      "C:\\Anaconda3\\lib\\site-packages\\sklearn\\svm\\_base.py:1244: ConvergenceWarning: Liblinear failed to converge, increase the number of iterations.\n",
      "  warnings.warn(\n",
      "C:\\Anaconda3\\lib\\site-packages\\sklearn\\svm\\_base.py:1244: ConvergenceWarning: Liblinear failed to converge, increase the number of iterations.\n",
      "  warnings.warn(\n",
      "C:\\Anaconda3\\lib\\site-packages\\sklearn\\svm\\_base.py:1244: ConvergenceWarning: Liblinear failed to converge, increase the number of iterations.\n",
      "  warnings.warn(\n",
      "C:\\Anaconda3\\lib\\site-packages\\sklearn\\svm\\_base.py:1244: ConvergenceWarning: Liblinear failed to converge, increase the number of iterations.\n",
      "  warnings.warn(\n",
      "C:\\Anaconda3\\lib\\site-packages\\sklearn\\svm\\_base.py:1244: ConvergenceWarning: Liblinear failed to converge, increase the number of iterations.\n",
      "  warnings.warn(\n",
      "C:\\Anaconda3\\lib\\site-packages\\sklearn\\svm\\_base.py:1244: ConvergenceWarning: Liblinear failed to converge, increase the number of iterations.\n",
      "  warnings.warn(\n",
      "C:\\Anaconda3\\lib\\site-packages\\sklearn\\svm\\_base.py:1244: ConvergenceWarning: Liblinear failed to converge, increase the number of iterations.\n",
      "  warnings.warn(\n",
      "C:\\Anaconda3\\lib\\site-packages\\sklearn\\svm\\_base.py:1244: ConvergenceWarning: Liblinear failed to converge, increase the number of iterations.\n",
      "  warnings.warn(\n",
      "C:\\Anaconda3\\lib\\site-packages\\sklearn\\svm\\_base.py:1244: ConvergenceWarning: Liblinear failed to converge, increase the number of iterations.\n",
      "  warnings.warn(\n",
      "C:\\Anaconda3\\lib\\site-packages\\sklearn\\svm\\_base.py:1244: ConvergenceWarning: Liblinear failed to converge, increase the number of iterations.\n",
      "  warnings.warn(\n",
      "C:\\Anaconda3\\lib\\site-packages\\sklearn\\svm\\_base.py:1244: ConvergenceWarning: Liblinear failed to converge, increase the number of iterations.\n",
      "  warnings.warn(\n",
      "C:\\Anaconda3\\lib\\site-packages\\sklearn\\svm\\_base.py:1244: ConvergenceWarning: Liblinear failed to converge, increase the number of iterations.\n",
      "  warnings.warn(\n",
      "C:\\Anaconda3\\lib\\site-packages\\sklearn\\svm\\_base.py:1244: ConvergenceWarning: Liblinear failed to converge, increase the number of iterations.\n",
      "  warnings.warn(\n",
      "C:\\Anaconda3\\lib\\site-packages\\sklearn\\svm\\_base.py:1244: ConvergenceWarning: Liblinear failed to converge, increase the number of iterations.\n",
      "  warnings.warn(\n",
      "C:\\Anaconda3\\lib\\site-packages\\sklearn\\svm\\_base.py:1244: ConvergenceWarning: Liblinear failed to converge, increase the number of iterations.\n",
      "  warnings.warn(\n",
      "C:\\Anaconda3\\lib\\site-packages\\sklearn\\svm\\_base.py:1244: ConvergenceWarning: Liblinear failed to converge, increase the number of iterations.\n",
      "  warnings.warn(\n",
      "C:\\Anaconda3\\lib\\site-packages\\sklearn\\svm\\_base.py:1244: ConvergenceWarning: Liblinear failed to converge, increase the number of iterations.\n",
      "  warnings.warn(\n",
      "C:\\Anaconda3\\lib\\site-packages\\sklearn\\svm\\_base.py:1244: ConvergenceWarning: Liblinear failed to converge, increase the number of iterations.\n",
      "  warnings.warn(\n",
      "C:\\Anaconda3\\lib\\site-packages\\sklearn\\svm\\_base.py:1244: ConvergenceWarning: Liblinear failed to converge, increase the number of iterations.\n",
      "  warnings.warn(\n",
      "C:\\Anaconda3\\lib\\site-packages\\sklearn\\svm\\_base.py:1244: ConvergenceWarning: Liblinear failed to converge, increase the number of iterations.\n",
      "  warnings.warn(\n",
      "C:\\Anaconda3\\lib\\site-packages\\sklearn\\svm\\_base.py:1244: ConvergenceWarning: Liblinear failed to converge, increase the number of iterations.\n",
      "  warnings.warn(\n",
      "C:\\Anaconda3\\lib\\site-packages\\sklearn\\svm\\_base.py:1244: ConvergenceWarning: Liblinear failed to converge, increase the number of iterations.\n",
      "  warnings.warn(\n",
      "C:\\Anaconda3\\lib\\site-packages\\sklearn\\svm\\_base.py:1244: ConvergenceWarning: Liblinear failed to converge, increase the number of iterations.\n",
      "  warnings.warn(\n",
      "C:\\Anaconda3\\lib\\site-packages\\sklearn\\svm\\_base.py:1244: ConvergenceWarning: Liblinear failed to converge, increase the number of iterations.\n",
      "  warnings.warn(\n"
     ]
    },
    {
     "name": "stdout",
     "output_type": "stream",
     "text": [
      "Cross-validation scores: [0.42857143 0.42857143 0.28571429 0.42857143 0.57142857 0.71428571\n",
      " 0.14285714 0.42857143 0.71428571 0.57142857 0.42857143 0.42857143\n",
      " 0.57142857 0.28571429 0.57142857 0.42857143 0.42857143 0.28571429\n",
      " 0.42857143 0.71428571 0.71428571 0.42857143 0.57142857 0.28571429\n",
      " 0.42857143 0.71428571 0.57142857 0.42857143 0.57142857 0.42857143\n",
      " 0.28571429 0.42857143 0.57142857 0.57142857 0.42857143 0.57142857\n",
      " 0.42857143 0.28571429 0.71428571 0.71428571 0.57142857 0.71428571\n",
      " 0.42857143 0.42857143 0.28571429 0.28571429 0.57142857 0.42857143\n",
      " 0.57142857 0.42857143 0.57142857 0.57142857 0.42857143 0.57142857\n",
      " 0.71428571 0.71428571 0.57142857 0.57142857 0.71428571 0.57142857\n",
      " 0.57142857 0.28571429 0.28571429 0.57142857 0.28571429 0.42857143\n",
      " 0.57142857 0.57142857 0.28571429 0.42857143 0.42857143]\n",
      "Average cross-validation score: 0.49\n"
     ]
    },
    {
     "name": "stderr",
     "output_type": "stream",
     "text": [
      "C:\\Anaconda3\\lib\\site-packages\\sklearn\\svm\\_base.py:1244: ConvergenceWarning: Liblinear failed to converge, increase the number of iterations.\n",
      "  warnings.warn(\n"
     ]
    }
   ],
   "source": [
    "stratified_kfold = StratifiedKFold(n_splits=k, shuffle=True, random_state=42)\n",
    "scores = cross_val_score(linear_svc, data, target, cv=5)\n",
    "cv_scores = cross_val_score(linear_svc, data, target, cv=stratified_kfold)\n",
    "print(\"Cross-validation scores: {}\".format(cv_scores))\n",
    "print(\"Average cross-validation score: {:.2f}\".format(cv_scores.mean()))"
   ]
  },
  {
   "cell_type": "code",
   "execution_count": null,
   "id": "aeda90cf-284d-4364-a119-c34af6f61ad9",
   "metadata": {},
   "outputs": [],
   "source": []
  }
 ],
 "metadata": {
  "kernelspec": {
   "display_name": "Python 3 (ipykernel)",
   "language": "python",
   "name": "python3"
  },
  "language_info": {
   "codemirror_mode": {
    "name": "ipython",
    "version": 3
   },
   "file_extension": ".py",
   "mimetype": "text/x-python",
   "name": "python",
   "nbconvert_exporter": "python",
   "pygments_lexer": "ipython3",
   "version": "3.8.16"
  }
 },
 "nbformat": 4,
 "nbformat_minor": 5
}
